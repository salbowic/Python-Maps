{
 "cells": [
  {
   "cell_type": "code",
   "execution_count": null,
   "metadata": {},
   "outputs": [],
   "source": [
    "import pandas as pd\n",
    "import geopandas as gpd\n",
    "import folium\n",
    "from IPython.display import display\n",
    "import ipywidgets as widgets\n",
    "\n",
    "# dane o cenach za 1m2 mieszkan\n",
    "dane_rynek_mieszkan_file = 'data/RYNE_3775_CTAB_20231230170737.csv'\n",
    "ceny_mieszkan_gus = pd.read_csv(dane_rynek_mieszkan_file, delimiter=';')\n",
    "ceny_mieszkan_gus = ceny_mieszkan_gus.iloc[:, 0:15]\n",
    "ceny_mieszkan_gus.columns = ['TERYT', 'Nazwa', '2010', '2011', '2012', '2013', '2014', '2015', '2016', '2017', '2018', '2019', '2020', '2021', '2022'] \n",
    "ceny_mieszkan_gus['TERYT_gmin'] = ceny_mieszkan_gus.TERYT.apply(lambda x: '0'+str(x) if len(str(x)) < 7 else str(x))\n",
    "ceny_mieszkan_gus['TERYT_woj'] = ceny_mieszkan_gus.TERYT_gmin.apply(lambda s: s[:2])\n",
    "\n",
    "# usuwamy wiersz z całą Polską:\n",
    "ceny_mieszkan_gus = ceny_mieszkan_gus[ceny_mieszkan_gus['TERYT'] != '0']\n",
    "# print(ceny_mieszkan_gus)\n",
    "\n",
    "ceny_mieszkan_gus_gmin = ceny_mieszkan_gus[ceny_mieszkan_gus.TERYT_gmin.str[4:7] == '000']\n",
    "ceny_mieszkan_gus_gmin['TERYT_gmin'] = ceny_mieszkan_gus_gmin['TERYT_gmin'].str[:-2]\n",
    "mapa_gmin = gpd.read_file('data/PRG_jednostki_administracyjne_2022/A03_Granice_gmin.shp')\n",
    "mapa_gmin = mapa_gmin[['JPT_KOD_JE', 'JPT_NAZWA_', 'geometry']]\n",
    "mapa_gmin['JPT_KOD_JE'] = mapa_gmin['JPT_KOD_JE'].str[:-2]\n",
    "\n",
    "ceny_mieszkan_gus_gmin['TERYT_gmin'] = ceny_mieszkan_gus_gmin['TERYT_gmin'].astype(str)\n",
    "mapa_gmin['JPT_KOD_JE'] = mapa_gmin['JPT_KOD_JE'].astype(str)\n",
    "\n",
    "mapa_gmin.geometry = mapa_gmin.geometry.simplify(0.005)\n",
    "gmn_geoPath = mapa_gmin.to_json()\n",
    "\n",
    "column_dropdown = widgets.Dropdown(\n",
    "    options=ceny_mieszkan_gus_gmin.columns[2:-2],\n",
    "    value='2022',\n",
    "    description='Select Column:',\n",
    "    disabled=False\n",
    ")\n",
    "\n",
    "def update_map(column_name):\n",
    "    mapa = folium.Map([52, 19], zoom_start=6)\n",
    "\n",
    "    folium.Choropleth(\n",
    "        geo_data=gmn_geoPath,\n",
    "        data=ceny_mieszkan_gus_gmin,\n",
    "        columns=['TERYT_gmin', column_name],\n",
    "        key_on='feature.properties.JPT_KOD_JE',\n",
    "        fill_color='YlOrRd',\n",
    "        fill_opacity=0.7,\n",
    "        line_opacity=0.2,\n",
    "        legend_name=f'Cena za 1 m2 lokalu ({column_name}r.)'\n",
    "    ).add_to(mapa)\n",
    "\n",
    "    mapa.save(outfile='ceny_mieszkan.html')\n",
    "\n",
    "widgets.interactive(update_map, column_name=column_dropdown)\n",
    "\n",
    "display(column_dropdown)"
   ]
  }
 ],
 "metadata": {
  "kernelspec": {
   "display_name": "Python 3",
   "language": "python",
   "name": "python3"
  },
  "language_info": {
   "codemirror_mode": {
    "name": "ipython",
    "version": 3
   },
   "file_extension": ".py",
   "mimetype": "text/x-python",
   "name": "python",
   "nbconvert_exporter": "python",
   "pygments_lexer": "ipython3",
   "version": "3.11.9"
  }
 },
 "nbformat": 4,
 "nbformat_minor": 2
}
